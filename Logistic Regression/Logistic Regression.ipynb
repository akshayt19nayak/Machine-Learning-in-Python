{
 "cells": [
  {
   "cell_type": "markdown",
   "metadata": {},
   "source": [
    "## Objective"
   ]
  },
  {
   "cell_type": "markdown",
   "metadata": {},
   "source": [
    "The objective of this notebook is to solve the second programming assignment of Andrew Ng's Machine Learning course on Coursera using Python. I have also taken a snapshot of the important concepts relating to the topics taught in this week that I'll be pasting in my notebook. "
   ]
  },
  {
   "cell_type": "code",
   "execution_count": 1,
   "metadata": {
    "collapsed": true
   },
   "outputs": [],
   "source": [
    "from IPython.display import Image"
   ]
  },
  {
   "cell_type": "markdown",
   "metadata": {},
   "source": [
    "## Hypothesis Overview"
   ]
  },
  {
   "cell_type": "markdown",
   "metadata": {},
   "source": [
    "If we use Linear Regression for classification, some of the problems that may arise are:\n",
    "- high leverage points (points that have extreme or unusual x values) will compromise the fit of the regression model and we will end up with a bad hypothesis for predicting our 0 and 1 classes\n",
    "- classification problems have a discrete number of outcomes, thus it is important that our hypothesis outputs values that are between 0 and 1, so that we can use some thresholding scheme to predict 0s and 1s. In Linear Regression, this may not be observed as our model can output values that are lesser than 0 and greater than 1"
   ]
  },
  {
   "cell_type": "markdown",
   "metadata": {},
   "source": [
    "![title](Logistic Regression Hypothesis.png)"
   ]
  },
  {
   "cell_type": "markdown",
   "metadata": {},
   "source": [
    "![title](LR Probabilities.png)"
   ]
  },
  {
   "cell_type": "markdown",
   "metadata": {},
   "source": [
    "This is obviously only true for binary classification. For multi-class classification, we will have as many as probabilities as the number of classes"
   ]
  },
  {
   "cell_type": "markdown",
   "metadata": {},
   "source": [
    "![title](LR Decision Boundary.png)"
   ]
  },
  {
   "cell_type": "markdown",
   "metadata": {},
   "source": [
    "## Cost Function Overview "
   ]
  },
  {
   "cell_type": "markdown",
   "metadata": {},
   "source": [
    "Now we can't use the same cost function as Linear Regression as the logit function will cause the output to be wavy"
   ]
  },
  {
   "cell_type": "markdown",
   "metadata": {},
   "source": [
    "![title](LR Cost Function 1.png)"
   ]
  },
  {
   "cell_type": "markdown",
   "metadata": {},
   "source": [
    "![title](LR Cost Function 2.png)"
   ]
  },
  {
   "cell_type": "markdown",
   "metadata": {},
   "source": [
    "The intuition behind doing this is that if we misclassify our observation, then we impose a heavy penalty on the model. The more our hypothesis is off from y, the larger the cost. Here the hypothesis is g(z) or sigmoid(z)\n",
    "- If our correct answer 'y' is 0, then the cost function will be 0 if our hypothesis function also outputs 0. If our hypothesis approaches 1, then the cost function will approach infinity.\n",
    "- If our correct answer 'y' is 1, then the cost function will be 0 if our hypothesis function outputs 1. If our hypothesis approaches 0, then the cost function will approach infinity.\n",
    "\n",
    "Note that writing the cost function in this way guarantees that J(θ) is convex for logistic regression. Compressing these two cases :-"
   ]
  },
  {
   "cell_type": "markdown",
   "metadata": {},
   "source": [
    "![title](LR Cost Function Final.png)"
   ]
  },
  {
   "cell_type": "markdown",
   "metadata": {},
   "source": [
    "Note that when y=1, the second term is 0 and when y=0, the first term is 0. X is the design matrix and the thetas are the weights which we need to optimize"
   ]
  },
  {
   "cell_type": "markdown",
   "metadata": {},
   "source": [
    "## Reading and plotting the data "
   ]
  },
  {
   "cell_type": "code",
   "execution_count": 2,
   "metadata": {
    "collapsed": true
   },
   "outputs": [],
   "source": [
    "#Importing the necessary libraries\n",
    "import numpy as np\n",
    "import pandas as pd\n",
    "import matplotlib.pyplot as plt\n",
    "import seaborn as sns\n",
    "import math\n",
    "import warnings\n",
    "warnings.filterwarnings('ignore')\n",
    "%matplotlib inline"
   ]
  },
  {
   "cell_type": "code",
   "execution_count": 3,
   "metadata": {},
   "outputs": [
    {
     "data": {
      "text/html": [
       "<div>\n",
       "<style>\n",
       "    .dataframe thead tr:only-child th {\n",
       "        text-align: right;\n",
       "    }\n",
       "\n",
       "    .dataframe thead th {\n",
       "        text-align: left;\n",
       "    }\n",
       "\n",
       "    .dataframe tbody tr th {\n",
       "        vertical-align: top;\n",
       "    }\n",
       "</style>\n",
       "<table border=\"1\" class=\"dataframe\">\n",
       "  <thead>\n",
       "    <tr style=\"text-align: right;\">\n",
       "      <th></th>\n",
       "      <th>Exam1</th>\n",
       "      <th>Exam2</th>\n",
       "      <th>Admitted</th>\n",
       "    </tr>\n",
       "  </thead>\n",
       "  <tbody>\n",
       "    <tr>\n",
       "      <th>0</th>\n",
       "      <td>34.623660</td>\n",
       "      <td>78.024693</td>\n",
       "      <td>0</td>\n",
       "    </tr>\n",
       "    <tr>\n",
       "      <th>1</th>\n",
       "      <td>30.286711</td>\n",
       "      <td>43.894998</td>\n",
       "      <td>0</td>\n",
       "    </tr>\n",
       "    <tr>\n",
       "      <th>2</th>\n",
       "      <td>35.847409</td>\n",
       "      <td>72.902198</td>\n",
       "      <td>0</td>\n",
       "    </tr>\n",
       "    <tr>\n",
       "      <th>3</th>\n",
       "      <td>60.182599</td>\n",
       "      <td>86.308552</td>\n",
       "      <td>1</td>\n",
       "    </tr>\n",
       "    <tr>\n",
       "      <th>4</th>\n",
       "      <td>79.032736</td>\n",
       "      <td>75.344376</td>\n",
       "      <td>1</td>\n",
       "    </tr>\n",
       "  </tbody>\n",
       "</table>\n",
       "</div>"
      ],
      "text/plain": [
       "       Exam1      Exam2  Admitted\n",
       "0  34.623660  78.024693         0\n",
       "1  30.286711  43.894998         0\n",
       "2  35.847409  72.902198         0\n",
       "3  60.182599  86.308552         1\n",
       "4  79.032736  75.344376         1"
      ]
     },
     "execution_count": 3,
     "metadata": {},
     "output_type": "execute_result"
    }
   ],
   "source": [
    "#To read the data\n",
    "data = pd.read_csv('ex2data1.csv',header=None)\n",
    "data.columns=['Exam1','Exam2','Admitted']\n",
    "data.head()"
   ]
  },
  {
   "cell_type": "code",
   "execution_count": 4,
   "metadata": {},
   "outputs": [
    {
     "data": {
      "text/plain": [
       "<matplotlib.text.Text at 0x97e1fbf8d0>"
      ]
     },
     "execution_count": 4,
     "metadata": {},
     "output_type": "execute_result"
    },
    {
     "data": {
      "text/plain": [
       "<matplotlib.figure.Figure at 0x97e1c099e8>"
      ]
     },
     "metadata": {},
     "output_type": "display_data"
    },
    {
     "data": {
      "image/png": "[encoded data removed]",
      "text/plain": [
       "<matplotlib.figure.Figure at 0x97e1c27470>"
      ]
     },
     "metadata": {},
     "output_type": "display_data"
    }
   ],
   "source": [
    "#Plotting the data\n",
    "plt.figure(figsize=(13,8))\n",
    "sns.lmplot(x='Exam1',y='Exam2',hue='Admitted',markers=['o','x'],palette='dark',data=data,fit_reg=False)\n",
    "plt.title('Admission vs Exam Scores',size=14)\n",
    "plt.xlabel('Exam1',size=13)\n",
    "plt.ylabel('Exam2',size=13)"
   ]
  },
  {
   "cell_type": "markdown",
   "metadata": {},
   "source": [
    "A classifier with a linear decision boundary would do a very good job of seperating the 1s and 0s here. However a slightly curved decision boundary would probably be perfect"
   ]
  },
  {
   "cell_type": "code",
   "execution_count": 5,
   "metadata": {
    "collapsed": true
   },
   "outputs": [],
   "source": [
    "#To define the X and y values\n",
    "X=data[['Exam1','Exam2']]\n",
    "y=data['Admitted']\n",
    "\n",
    "#To add an additional column. Why is it needed? Since we're trying to perform matrix multiplications, it is \n",
    "#necessary that the conditions for matrix multiplication are satisfied. Since theta 0 doesn't have a \n",
    "#corresponding column in X, to be consistent we need to have an additional column that only has ones\n",
    "X0=pd.Series(np.ones(len(y)),name='X0')\n",
    "X = pd.concat([X0,X],axis=1)\n",
    "\n",
    "X=X.values #To convert from a dataframe to a 2D array\n",
    "y=y.reshape(y.shape[0],1) #to convert from a Pandas series to a 2D array\n",
    "theta=np.zeros(X.shape[1]) #Initial value of theta"
   ]
  },
  {
   "cell_type": "markdown",
   "metadata": {},
   "source": [
    "## Sigmoid Function"
   ]
  },
  {
   "cell_type": "code",
   "execution_count": 6,
   "metadata": {
    "collapsed": true
   },
   "outputs": [],
   "source": [
    "def SIGMOID(z):\n",
    "    #Using np.exp is beneficial as it does the operation in a vectorised manner\n",
    "    return(1/(1+np.exp(-z)))"
   ]
  },
  {
   "cell_type": "code",
   "execution_count": 7,
   "metadata": {},
   "outputs": [
    {
     "data": {
      "text/plain": [
       "<matplotlib.lines.Line2D at 0x97e3122898>"
      ]
     },
     "execution_count": 7,
     "metadata": {},
     "output_type": "execute_result"
    },
    {
     "data": {
      "image/png": "[encoded data removed]",
      "text/plain": [
       "<matplotlib.figure.Figure at 0x97e1c097f0>"
      ]
     },
     "metadata": {},
     "output_type": "display_data"
    }
   ],
   "source": [
    "#To plot the sigmoid function\n",
    "plt.figure(figsize=(12,6))\n",
    "plt.title('Sigmoid Function',size=14)\n",
    "plt.scatter(x=np.arange(-10,10,0.1),y=SIGMOID(np.arange(-10,10,0.1)))\n",
    "plt.axvline(x=0)\n",
    "plt.axhline(y=0.5)"
   ]
  },
  {
   "cell_type": "markdown",
   "metadata": {},
   "source": [
    "As you can see, for higher values of X, our hypothesis or g(z) asymptotes at 1. Similar behaviour is also expected at negative values of X, however in this case, the hypothesis asymptotes at 0. Thus through such a hypothesis function, the problem of dealing with high leverage points is solved. Also, the logistic regression model is a linear classifier BUT it is modelling the probabilities on a non-linear scale."
   ]
  },
  {
   "cell_type": "markdown",
   "metadata": {},
   "source": [
    "## Cost Function "
   ]
  },
  {
   "cell_type": "code",
   "execution_count": 8,
   "metadata": {},
   "outputs": [
    {
     "data": {
      "text/plain": [
       "<matplotlib.collections.PathCollection at 0x97e31ee1d0>"
      ]
     },
     "execution_count": 8,
     "metadata": {},
     "output_type": "execute_result"
    },
    {
     "data": {
      "image/png": "[encoded data removed]",
      "text/plain": [
       "<matplotlib.figure.Figure at 0x97e32e6278>"
      ]
     },
     "metadata": {},
     "output_type": "display_data"
    }
   ],
   "source": [
    "#Costs associated with misclassification\n",
    "plt.figure(figsize=(10,6))\n",
    "plt.subplot(1,2,1)\n",
    "plt.title('Cost when y=1',size=12)\n",
    "plt.scatter(x=np.arange(0,1,0.01),y=-np.log(np.arange(0,1,0.01)))\n",
    "\n",
    "plt.subplot(1,2,2)\n",
    "plt.title('Cost when y=0',size=12)\n",
    "plt.scatter(x=np.arange(0,1,0.01),y=-np.log(1-np.arange(0,1,0.01)))"
   ]
  },
  {
   "cell_type": "code",
   "execution_count": 9,
   "metadata": {},
   "outputs": [
    {
     "data": {
      "text/plain": [
       "0.69314718055994518"
      ]
     },
     "execution_count": 9,
     "metadata": {},
     "output_type": "execute_result"
    }
   ],
   "source": [
    "def COST(theta,X,y):\n",
    "    m=X.shape[0]\n",
    "    n=X.shape[1]\n",
    "    theta=theta.reshape(n,1)\n",
    "    hypothesis=SIGMOID(np.dot(X,theta))\n",
    "    J=(-1/m)*((np.dot(np.transpose(y),np.log(hypothesis)))+\n",
    "              (np.dot((1-np.transpose(y)),np.log(1-hypothesis))))\n",
    "    return(J.flatten()[0])\n",
    "COST(np.zeros(3),X,y)"
   ]
  },
  {
   "cell_type": "markdown",
   "metadata": {},
   "source": [
    "Explanation:\n",
    "\n",
    "- The COST function calculates the cost of our logistic regression classifier with respect to the thetas (parameters)\n",
    "- m is the number of rows in the design matrix (X)\n",
    "- n is the number of features in the original X plus 1\n",
    "- We first take a dot product of our X and theta (initial values set to 0). X is an (m x n) dimensional matrix, theta is a n dimensional vector. The result of the dot product gives us an m dimensional vector (our hypothesis)\n",
    "- y is the label which is an m dimesnional vector \n",
    "- We then take the transpose of y which becomes a (1 x m) matrix and then take the dot product of this transpose with the log of the hypothesis (m x 1) matrix\n",
    "- The result gives us our cost for y=1. We do the exact same operation for cost when y=0 as well and add the two terms\n",
    "- This kind of vectorised implementation is less cluttered and efficient"
   ]
  },
  {
   "cell_type": "markdown",
   "metadata": {},
   "source": [
    "## Gradient of the Cost Function "
   ]
  },
  {
   "cell_type": "code",
   "execution_count": 10,
   "metadata": {},
   "outputs": [
    {
     "data": {
      "text/plain": [
       "array([ -0.1       , -12.00921659, -11.26284221])"
      ]
     },
     "execution_count": 10,
     "metadata": {},
     "output_type": "execute_result"
    }
   ],
   "source": [
    "def GRAD(theta,X,y):\n",
    "    m=X.shape[0]\n",
    "    n=X.shape[1]\n",
    "    theta=theta.reshape(n,1)\n",
    "    hypothesis=SIGMOID(np.dot(X,theta))\n",
    "    grad=(1/m)*np.dot(np.transpose(X),(hypothesis-y))\n",
    "    return(grad.flatten())\n",
    "GRAD(np.zeros(3),X,y)"
   ]
  },
  {
   "cell_type": "markdown",
   "metadata": {},
   "source": [
    "Explanation:\n",
    "\n",
    "- The GRAD function calculates the gradient of the cost function\n",
    "- The gradient looks similar to the gradient of the linear regression cost function, however the key difference in the hypothesis\n",
    "- We take a transpose of X, so that we get a (n x m) dimensional matrix\n",
    "- (hypotheis - y) is an (m x 1) dimensional matrix\n",
    "- The result of the dot product of the two gives us an n dimensional vector, that comes in handy in updating the value of theta"
   ]
  },
  {
   "cell_type": "code",
   "execution_count": 11,
   "metadata": {
    "collapsed": true
   },
   "outputs": [],
   "source": [
    "def GRADIENTDESCENT(X,y,alpha,iterations,theta):\n",
    "    COSTS=[]\n",
    "    THETAS=[]\n",
    "    m=X.shape[0]\n",
    "    n=X.shape[1]\n",
    "    theta=theta.reshape(n,1)\n",
    "    for i in range(iterations):\n",
    "        theta=theta-((alpha/m)*GRAD(X,y,theta).reshape(n,1))\n",
    "        COSTS.append(COST(X,y,theta))\n",
    "        THETAS.append(theta)\n",
    "    return(min(COSTS),THETAS[COSTS.index(min(COSTS))])"
   ]
  },
  {
   "cell_type": "markdown",
   "metadata": {},
   "source": [
    "## Optimization and Prediction "
   ]
  },
  {
   "cell_type": "code",
   "execution_count": 12,
   "metadata": {},
   "outputs": [
    {
     "data": {
      "text/plain": [
       "(array([-25.16131863,   0.20623159,   0.20147149]), 36, 0)"
      ]
     },
     "execution_count": 12,
     "metadata": {},
     "output_type": "execute_result"
    }
   ],
   "source": [
    "#Using the scipy's optimize module, we make use of Truncated Newton Method to optimize our thetas. Note : It is\n",
    "#important that the parameters passed in the COST and GRAD function are in the order - theta, X and y. You could\n",
    "#spend hours debugging the error if the parameters are not in that order\n",
    "import scipy.optimize as opt\n",
    "result = opt.fmin_tnc(func=COST, x0=theta, fprime=GRAD, args=(X, y))\n",
    "result"
   ]
  },
  {
   "cell_type": "code",
   "execution_count": 13,
   "metadata": {},
   "outputs": [
    {
     "data": {
      "text/plain": [
       "0.20349770158947461"
      ]
     },
     "execution_count": 13,
     "metadata": {},
     "output_type": "execute_result"
    }
   ],
   "source": [
    "#Using this value of theta, the lowest value of the COST function that we found out was 0.203 \n",
    "COST(result[0],X,y)"
   ]
  },
  {
   "cell_type": "code",
   "execution_count": 14,
   "metadata": {
    "collapsed": true
   },
   "outputs": [],
   "source": [
    "#To make predictions\n",
    "def predict(final_theta,X,threshold):\n",
    "    final_theta=final_theta.reshape(final_theta.shape[0],1)\n",
    "    prediction=SIGMOID(np.dot(X,final_theta)) \n",
    "    prediction=np.where(prediction>=threshold,1,0) #To code everything greater than or equal to threshold as 1\n",
    "    return(prediction)"
   ]
  },
  {
   "cell_type": "code",
   "execution_count": 15,
   "metadata": {
    "scrolled": true
   },
   "outputs": [
    {
     "name": "stdout",
     "output_type": "stream",
     "text": [
      "The accuracy of the classifier is 89.0 %\n"
     ]
    }
   ],
   "source": [
    "#To compute the final accuracy\n",
    "print('The accuracy of the classifier is',np.mean(predict(result[0],X,0.5)==y)*100,'%')"
   ]
  },
  {
   "cell_type": "markdown",
   "metadata": {},
   "source": [
    "## Regularization"
   ]
  },
  {
   "cell_type": "markdown",
   "metadata": {},
   "source": [
    "![title](Regularization.png)"
   ]
  },
  {
   "cell_type": "code",
   "execution_count": 16,
   "metadata": {},
   "outputs": [
    {
     "data": {
      "text/html": [
       "<div>\n",
       "<style>\n",
       "    .dataframe thead tr:only-child th {\n",
       "        text-align: right;\n",
       "    }\n",
       "\n",
       "    .dataframe thead th {\n",
       "        text-align: left;\n",
       "    }\n",
       "\n",
       "    .dataframe tbody tr th {\n",
       "        vertical-align: top;\n",
       "    }\n",
       "</style>\n",
       "<table border=\"1\" class=\"dataframe\">\n",
       "  <thead>\n",
       "    <tr style=\"text-align: right;\">\n",
       "      <th></th>\n",
       "      <th>Test1</th>\n",
       "      <th>Test2</th>\n",
       "      <th>Accepted</th>\n",
       "    </tr>\n",
       "  </thead>\n",
       "  <tbody>\n",
       "    <tr>\n",
       "      <th>0</th>\n",
       "      <td>0.051267</td>\n",
       "      <td>0.69956</td>\n",
       "      <td>1</td>\n",
       "    </tr>\n",
       "    <tr>\n",
       "      <th>1</th>\n",
       "      <td>-0.092742</td>\n",
       "      <td>0.68494</td>\n",
       "      <td>1</td>\n",
       "    </tr>\n",
       "    <tr>\n",
       "      <th>2</th>\n",
       "      <td>-0.213710</td>\n",
       "      <td>0.69225</td>\n",
       "      <td>1</td>\n",
       "    </tr>\n",
       "    <tr>\n",
       "      <th>3</th>\n",
       "      <td>-0.375000</td>\n",
       "      <td>0.50219</td>\n",
       "      <td>1</td>\n",
       "    </tr>\n",
       "    <tr>\n",
       "      <th>4</th>\n",
       "      <td>-0.513250</td>\n",
       "      <td>0.46564</td>\n",
       "      <td>1</td>\n",
       "    </tr>\n",
       "  </tbody>\n",
       "</table>\n",
       "</div>"
      ],
      "text/plain": [
       "      Test1    Test2  Accepted\n",
       "0  0.051267  0.69956         1\n",
       "1 -0.092742  0.68494         1\n",
       "2 -0.213710  0.69225         1\n",
       "3 -0.375000  0.50219         1\n",
       "4 -0.513250  0.46564         1"
      ]
     },
     "execution_count": 16,
     "metadata": {},
     "output_type": "execute_result"
    }
   ],
   "source": [
    "#To read the data\n",
    "data_reg = pd.read_csv('ex2data2.csv',header=None)\n",
    "data_reg.columns=['Test1','Test2','Accepted']\n",
    "data_reg.head()"
   ]
  },
  {
   "cell_type": "code",
   "execution_count": 17,
   "metadata": {},
   "outputs": [
    {
     "data": {
      "text/plain": [
       "<matplotlib.text.Text at 0x97e325c208>"
      ]
     },
     "execution_count": 17,
     "metadata": {},
     "output_type": "execute_result"
    },
    {
     "data": {
      "text/plain": [
       "<matplotlib.figure.Figure at 0x97e320ce10>"
      ]
     },
     "metadata": {},
     "output_type": "display_data"
    },
    {
     "data": {
      "image/png": "[encoded data removed]",
      "text/plain": [
       "<matplotlib.figure.Figure at 0x97e1c093c8>"
      ]
     },
     "metadata": {},
     "output_type": "display_data"
    }
   ],
   "source": [
    "#Plotting the data\n",
    "plt.figure(figsize=(13,8))\n",
    "sns.lmplot(x='Test1',y='Test2',hue='Accepted',markers=['o','x'],palette='dark',data=data_reg,fit_reg=False)\n",
    "plt.title('Acceptance vs Test Results',size=14)\n",
    "plt.xlabel('Test1',size=13)\n",
    "plt.ylabel('Test2',size=13)"
   ]
  },
  {
   "cell_type": "markdown",
   "metadata": {},
   "source": [
    "It is very much apparent that a linear decision boundary won't do a good job of sperating the 1s and 0s here. We need a more complex hypothesis that has a circular decision boundary. Hence we may need higher order terms"
   ]
  },
  {
   "cell_type": "code",
   "execution_count": 18,
   "metadata": {
    "collapsed": true
   },
   "outputs": [],
   "source": [
    "#To define the X and y values\n",
    "X=data_reg[['Test1','Test2']]\n",
    "y=data_reg['Accepted']"
   ]
  },
  {
   "cell_type": "code",
   "execution_count": 19,
   "metadata": {
    "collapsed": true
   },
   "outputs": [],
   "source": [
    "#We could have implemented this function by running 2 for loops, but since the focus is on building the\n",
    "#algorithms, we will use a readymade function for finding Polynomial Features\n",
    "from sklearn.preprocessing import PolynomialFeatures\n",
    "polynomial=PolynomialFeatures(6)\n",
    "X=polynomial.fit_transform(X)"
   ]
  },
  {
   "cell_type": "code",
   "execution_count": 20,
   "metadata": {},
   "outputs": [
    {
     "data": {
      "text/plain": [
       "(118, 28)"
      ]
     },
     "execution_count": 20,
     "metadata": {},
     "output_type": "execute_result"
    }
   ],
   "source": [
    "#The PolynomialFeatures function has also inserted a column of ones into the design matrix\n",
    "X.shape"
   ]
  },
  {
   "cell_type": "code",
   "execution_count": 21,
   "metadata": {
    "collapsed": true
   },
   "outputs": [],
   "source": [
    "#To convert y into a numpy array\n",
    "y=y.reshape(y.shape[0],1)"
   ]
  },
  {
   "cell_type": "markdown",
   "metadata": {},
   "source": [
    "As a result of this mapping, our vector of two features (the scores on two QA tests) has been transformed into a 28-dimensional vector. A logistic regression classifier trained on this higher-dimension feature vector will have a more complex decision boundary and will appear nonlinear when drawn in our 2-dimensional plot.\n",
    "\n",
    "While the feature mapping allows us to build a more expressive classifer, it also more susceptible to overfitting. We need to make sure that regularization helps our cause here and we only penalize those terms that are not useful (however this is done by optimization)"
   ]
  },
  {
   "cell_type": "markdown",
   "metadata": {},
   "source": [
    "## Regularized Cost Function and Gradient"
   ]
  },
  {
   "cell_type": "markdown",
   "metadata": {},
   "source": [
    "![title](Regularized Cost Function.png)"
   ]
  },
  {
   "cell_type": "markdown",
   "metadata": {},
   "source": [
    "This is the cost function for linear regression. The lambda is the regularization parameter. A lambda value extremely high could result in all our parameters being minimized to 0 and this results in high bias and underfitting. On the other hand, a lambda value too small, will result in our hypothesis overfitting/badly fitting to the data"
   ]
  },
  {
   "cell_type": "markdown",
   "metadata": {},
   "source": [
    "![title](LR Regularized Cost Func.png)"
   ]
  },
  {
   "cell_type": "code",
   "execution_count": 22,
   "metadata": {
    "collapsed": true
   },
   "outputs": [],
   "source": [
    "def COSTREG(theta,X,y,lam):\n",
    "    m=X.shape[0]\n",
    "    n=X.shape[1]\n",
    "    theta=theta.reshape(n,1)\n",
    "    hypothesis=SIGMOID(np.dot(X,theta))\n",
    "    J=(-1/m)*((np.dot(np.transpose(y),np.log(hypothesis)))+\n",
    "              (np.dot((1-np.transpose(y)),np.log(1-hypothesis))))+(lam/(2*m))*np.sum(np.square(theta[1:]))\n",
    "    return(J.flatten()[0])"
   ]
  },
  {
   "cell_type": "markdown",
   "metadata": {},
   "source": [
    "Explanation:\n",
    "\n",
    "- The COSTREG function calculates the regularized cost of our logistic regression classifier with respect to the thetas (parameters)\n",
    "- m is the number of rows in the design matrix (X)\n",
    "- n is the number of features in the original X plus 1\n",
    "- we first take a dot product of our X and theta (initial values set to 0). X is an (m x n) dimensional matrix, theta is a n dimensional vector. The result of the dot product gives us an m dimensional vector (our hypothesis)\n",
    "- y is the label which is an m dimesnional vector \n",
    "- We then take the transpose of y which becomes a (1 x m) matrix and then take the dot product of this transpose with the log of the hypothesis (m x 1) matrix\n",
    "- The result gives us our cost for y=1. We do the exact same operation for cost when y=0 as well and add the two terms\n",
    "- However in this case, we also have our regularization parameter lambda. We don't regularize the zeroth theta which is our intercept term. We square and sum over all other terms\n",
    "- The result of these operations gives us our final cost which we try to minimze with respect to theta"
   ]
  },
  {
   "cell_type": "markdown",
   "metadata": {},
   "source": [
    "![title](LR Regularized Gradient.png)"
   ]
  },
  {
   "cell_type": "markdown",
   "metadata": {},
   "source": [
    "Everything that comes within the square brackets is the gradient of the cost function"
   ]
  },
  {
   "cell_type": "code",
   "execution_count": 23,
   "metadata": {
    "collapsed": true
   },
   "outputs": [],
   "source": [
    "def GRADREG(theta,X,y,lam):\n",
    "    m=X.shape[0]\n",
    "    n=X.shape[1]\n",
    "    theta=theta.reshape(n,1)\n",
    "    hypothesis=SIGMOID(np.dot(X,theta))\n",
    "    grad=(1/m)*(np.dot(np.transpose(X),(hypothesis-y)))+np.insert((lam/m)*(theta[1:]),0,0).reshape(n,1)\n",
    "    return(grad.flatten())"
   ]
  },
  {
   "cell_type": "markdown",
   "metadata": {},
   "source": [
    "Explanation:\n",
    "\n",
    "- The GRADREG function calculates the gradient of the regularized cost function\n",
    "- The gradient looks similar to the gradient of the linear regression cost function, however the key difference in the hypothesis\n",
    "- We take a transpose of X, so that we get a (n x m) dimensional matrix\n",
    "- (hypotheis - y) is an (m x 1) dimensional matrix\n",
    "- The result of the dot product of the two gives us an n dimensional vector, that comes in handy in updating the value of theta.\n",
    "- However in this case, we also have our regularization parameter lambda. We don't regularize the zeroth theta which is our intercept term\n",
    "- We multiply all our thetas starting from index 1 by lambda/m\n",
    "- Since the zeroth term in theta is exempt from regularization, we need to set it to zero in the second half of the equation to be consistent with the dimensions for which we use the np.insert function. DON'T SET IT TO theta[0] as this will mean that after every iteration of an optimization algorithm, theta[0] at the end of the previous iteration will get added to theta[0] of the new iteration"
   ]
  },
  {
   "cell_type": "code",
   "execution_count": 24,
   "metadata": {},
   "outputs": [
    {
     "name": "stdout",
     "output_type": "stream",
     "text": [
      "Cost: 0.69314718056\n",
      "First five gradients: [  8.47457627e-03   1.87880932e-02   7.77711864e-05   5.03446395e-02\n",
      "   1.15013308e-02]\n"
     ]
    }
   ],
   "source": [
    "#Cost and gradient with thetas all initialised to zeros and lambda=1\n",
    "print('Cost:',COSTREG(np.zeros(28),X,y,1))\n",
    "print('First five gradients:',GRADREG(np.zeros(28),X,y,1)[:5])"
   ]
  },
  {
   "cell_type": "code",
   "execution_count": 25,
   "metadata": {},
   "outputs": [
    {
     "name": "stdout",
     "output_type": "stream",
     "text": [
      "Cost: 3.16450933162\n",
      "First five gradients: [ 0.34604507  0.16135192  0.19479576  0.22686278  0.09218568]\n"
     ]
    }
   ],
   "source": [
    "#Cost and gradient with thetas all initialised to ones and lambda=10\n",
    "print('Cost:',COSTREG(np.ones(28),X,y,10))\n",
    "print('First five gradients:',GRADREG(np.ones(28),X,y,10)[:5])"
   ]
  },
  {
   "cell_type": "markdown",
   "metadata": {},
   "source": [
    "## Optimization and Prediction "
   ]
  },
  {
   "cell_type": "code",
   "execution_count": 26,
   "metadata": {},
   "outputs": [
    {
     "data": {
      "text/plain": [
       "(array([ 1.27271029,  0.62529966,  1.18111687, -2.01987401, -0.91743189,\n",
       "        -1.43166935,  0.12393225, -0.36553118, -0.35725406, -0.17516292,\n",
       "        -1.4581701 , -0.05098417, -0.61558558, -0.27469165, -1.19271298,\n",
       "        -0.2421784 , -0.20603302, -0.04466176, -0.27778947, -0.29539513,\n",
       "        -0.45645981, -1.04319154,  0.02779374, -0.29244864,  0.01555759,\n",
       "        -0.32742404, -0.14389149, -0.92467487]), 32, 1)"
      ]
     },
     "execution_count": 26,
     "metadata": {},
     "output_type": "execute_result"
    }
   ],
   "source": [
    "#Using the scipy's optimize module, we make use of Truncated Newton Method to optimize our thetas. Note : It is\n",
    "#important that the parameters passed in the COST and GRAD function are in the order - theta, X and y. You could\n",
    "#spend hours debugging the error if the parameters are not in that order\n",
    "result_reg = opt.fmin_tnc(func=COSTREG, x0=np.zeros(28), fprime=GRADREG, args=(X,y,1))\n",
    "result_reg"
   ]
  },
  {
   "cell_type": "code",
   "execution_count": 27,
   "metadata": {},
   "outputs": [
    {
     "name": "stdout",
     "output_type": "stream",
     "text": [
      "The accuracy of the classifier is 83.0508474576 %\n"
     ]
    }
   ],
   "source": [
    "#To compute the final accuracy\n",
    "print('The accuracy of the classifier is',np.mean(predict(result_reg[0],X,0.5)==y)*100,'%')"
   ]
  }
 ],
 "metadata": {
  "kernelspec": {
   "display_name": "Python 3",
   "language": "python",
   "name": "python3"
  },
  "language_info": {
   "codemirror_mode": {
    "name": "ipython",
    "version": 3
   },
   "file_extension": ".py",
   "mimetype": "text/x-python",
   "name": "python",
   "nbconvert_exporter": "python",
   "pygments_lexer": "ipython3",
   "version": "3.6.1"
  }
 },
 "nbformat": 4,
 "nbformat_minor": 2
}
