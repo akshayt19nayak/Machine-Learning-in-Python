{
 "cells": [
  {
   "cell_type": "markdown",
   "metadata": {},
   "source": [
    "## Objective"
   ]
  },
  {
   "cell_type": "markdown",
   "metadata": {},
   "source": [
    "The objective of this notebook is to solve the first Programming Assignment of Andrew Ng's Machine Learning course on Coursera using Python. Watching the videos first (which are fantastic btw) and then solving the assignment is the right way to go and this notebook will summarise the important concepts explained in the videos. However for those of you who don't want to take the course due to lack of time/ motivation/ aversion to MATLAB/Ocatve and want to only understand the important concepts explained in the first 2 weeks, feel free to go through my notebook. "
   ]
  },
  {
   "cell_type": "code",
   "execution_count": 3,
   "metadata": {
    "collapsed": true
   },
   "outputs": [],
   "source": [
    "from IPython.display import Image, display"
   ]
  },
  {
   "cell_type": "markdown",
   "metadata": {},
   "source": [
    "## Cost Function Overview"
   ]
  },
  {
   "cell_type": "markdown",
   "metadata": {},
   "source": [
    "First and foremost, we need to define the cost function.\n",
    "<img src='Cost Function.png'>"
   ]
  },
  {
   "cell_type": "markdown",
   "metadata": {},
   "source": [
    "## Gradient Descent Overview"
   ]
  },
  {
   "cell_type": "markdown",
   "metadata": {},
   "source": [
    "Gradient descent is an optimization algorithm. Using this, we find the minimum of a function by taking the partial derivative of the cost function with respect to every parameter that the function takes and subtracting that from the initial randomised value of the parameter. For most machine learning methods, we try to optimize the cost function. Gradient descent is susceptible to local minimas, however, in the case of linear regression, the cost function is convex which means that there is only one minima. Thus by using gradient descent we will always converge to the global minima and it will give us the optimized parameters for which the cost function/mean squared error is minimum and these parameters will define the best fit line.\n",
    "\n",
    "We reach the local minimum by taking the derivative of the cost function at the point where we start (this is usually random). The derivative of the cost function is a tangential line to the function and the slope of the tangent is the derivative at that point and it will give us a direction to move towards. \n",
    "\n",
    "![title](GD General.png)\n",
    "\n",
    "![title](GD Linear Regression.png)\n",
    "\n",
    "For theta(1) to theta(n), the partial derivative of the the cost function wrt the thetas will give us the additional ith x term that you see at the end.\n",
    "\n",
    "If you start with a bad random value for a particular theta, the derivative of the cost function with respect to that parameter will be steep. Hence when we update our theta (i.e subtract the partial derivative from it), we will have minimised our cost function wrt the theta to a great extent.\n",
    "\n",
    "The alpha is the learning rate. It can be thought of as a hyperparameter as we need to set it's value before the learning begins. \n",
    "- If it's value is small, gradient descent will take a long time to converge\n",
    "- If it's value is large, the cost function may not converge to it's minimum value.\n",
    "\n",
    "![title](GD Intuition.png)\n",
    "\n",
    "![title](Intuition 1.png)\n",
    "\n",
    "![title](Intuition 2.png)"
   ]
  },
  {
   "cell_type": "markdown",
   "metadata": {},
   "source": [
    "## Reading and plotting the data "
   ]
  },
  {
   "cell_type": "code",
   "execution_count": 2,
   "metadata": {
    "collapsed": true
   },
   "outputs": [],
   "source": [
    "#Importing the necessary libraries\n",
    "import numpy as np\n",
    "import pandas as pd\n",
    "import matplotlib.pyplot as plt\n",
    "import seaborn as sns\n",
    "import warnings\n",
    "warnings.filterwarnings('ignore')\n",
    "%matplotlib inline"
   ]
  },
  {
   "cell_type": "code",
   "execution_count": 3,
   "metadata": {},
   "outputs": [
    {
     "data": {
      "text/html": [
       "<div>\n",
       "<style>\n",
       "    .dataframe thead tr:only-child th {\n",
       "        text-align: right;\n",
       "    }\n",
       "\n",
       "    .dataframe thead th {\n",
       "        text-align: left;\n",
       "    }\n",
       "\n",
       "    .dataframe tbody tr th {\n",
       "        vertical-align: top;\n",
       "    }\n",
       "</style>\n",
       "<table border=\"1\" class=\"dataframe\">\n",
       "  <thead>\n",
       "    <tr style=\"text-align: right;\">\n",
       "      <th></th>\n",
       "      <th>Population</th>\n",
       "      <th>Profit</th>\n",
       "    </tr>\n",
       "  </thead>\n",
       "  <tbody>\n",
       "    <tr>\n",
       "      <th>0</th>\n",
       "      <td>6.1101</td>\n",
       "      <td>17.5920</td>\n",
       "    </tr>\n",
       "    <tr>\n",
       "      <th>1</th>\n",
       "      <td>5.5277</td>\n",
       "      <td>9.1302</td>\n",
       "    </tr>\n",
       "    <tr>\n",
       "      <th>2</th>\n",
       "      <td>8.5186</td>\n",
       "      <td>13.6620</td>\n",
       "    </tr>\n",
       "    <tr>\n",
       "      <th>3</th>\n",
       "      <td>7.0032</td>\n",
       "      <td>11.8540</td>\n",
       "    </tr>\n",
       "    <tr>\n",
       "      <th>4</th>\n",
       "      <td>5.8598</td>\n",
       "      <td>6.8233</td>\n",
       "    </tr>\n",
       "  </tbody>\n",
       "</table>\n",
       "</div>"
      ],
      "text/plain": [
       "   Population   Profit\n",
       "0      6.1101  17.5920\n",
       "1      5.5277   9.1302\n",
       "2      8.5186  13.6620\n",
       "3      7.0032  11.8540\n",
       "4      5.8598   6.8233"
      ]
     },
     "execution_count": 3,
     "metadata": {},
     "output_type": "execute_result"
    }
   ],
   "source": [
    "#To read the data\n",
    "data = pd.read_csv('ex1data1.csv',header=None)\n",
    "data.columns=['Population','Profit']\n",
    "data.head()"
   ]
  },
  {
   "cell_type": "code",
   "execution_count": 4,
   "metadata": {
    "collapsed": true
   },
   "outputs": [],
   "source": [
    "#To define the X and y values\n",
    "X=data['Population']\n",
    "y=data['Profit']"
   ]
  },
  {
   "cell_type": "code",
   "execution_count": 5,
   "metadata": {},
   "outputs": [
    {
     "data": {
      "text/plain": [
       "<matplotlib.text.Text at 0x699390a2b0>"
      ]
     },
     "execution_count": 5,
     "metadata": {},
     "output_type": "execute_result"
    },
    {
     "data": {
      "image/png": "[encoded data removed]",
      "text/plain": [
       "<matplotlib.figure.Figure at 0x699385ba20>"
      ]
     },
     "metadata": {},
     "output_type": "display_data"
    }
   ],
   "source": [
    "#Plotting the data\n",
    "plt.figure(figsize=(12,6))\n",
    "plt.scatter(data['Population'],data['Profit'],marker='x',color='red')\n",
    "plt.title('Profit vs Population',size=14)\n",
    "plt.xlabel('Population in 10,000s',size=13)\n",
    "plt.ylabel('Profit in $10,000',size=13)"
   ]
  },
  {
   "cell_type": "markdown",
   "metadata": {},
   "source": [
    "A linear hypothesis seems like a good fit for the data as there is clearly a linear trend in the data. "
   ]
  },
  {
   "cell_type": "markdown",
   "metadata": {},
   "source": [
    "## Feature Scaling "
   ]
  },
  {
   "cell_type": "markdown",
   "metadata": {},
   "source": [
    "Feature scaling/ normalization is important as it helps speed the learning. Thetas that are on the same scale help in minimizing the cost function efficiently.\n",
    "\n",
    "![title](Feature Normalization.png)"
   ]
  },
  {
   "cell_type": "markdown",
   "metadata": {},
   "source": [
    "## Putting it all together "
   ]
  },
  {
   "cell_type": "markdown",
   "metadata": {},
   "source": [
    "- X is the design matrix. Contains the feature values\n",
    "- y is the observed response/target\n",
    "- thetas are our parameters\n",
    "- hypothesis is the product of X and thetas. This is our prediction\n",
    "- m is the number of training examples"
   ]
  },
  {
   "cell_type": "code",
   "execution_count": 6,
   "metadata": {
    "collapsed": true
   },
   "outputs": [],
   "source": [
    "def COMPUTECOST(X,y,theta):\n",
    "    m=len(y)\n",
    "    hypothesis=np.dot(X,theta).flatten()\n",
    "    return((1/(2*m))*sum(np.square(hypothesis-y.values)))"
   ]
  },
  {
   "cell_type": "code",
   "execution_count": 7,
   "metadata": {
    "collapsed": true
   },
   "outputs": [],
   "source": [
    "#To normalize the features\n",
    "X=(X-np.mean(X))/np.std(X)"
   ]
  },
  {
   "cell_type": "code",
   "execution_count": 8,
   "metadata": {
    "collapsed": true
   },
   "outputs": [],
   "source": [
    "#To add an additional column. Why is it needed? Since we're trying to perform matrix multiplications, it is \n",
    "#necessary that the conditions for matrix multiplication are satisfied. Since theta 0 doesn't have a \n",
    "#corresponding column in X, to be consistent we need to have an additional column that only has ones\n",
    "X0=pd.Series(np.ones(len(y)),name='X0')\n",
    "X = pd.concat([X0,X],axis=1)"
   ]
  },
  {
   "cell_type": "code",
   "execution_count": 9,
   "metadata": {
    "collapsed": true
   },
   "outputs": [],
   "source": [
    "#Setting a random value for theta\n",
    "theta=np.zeros((2,1))"
   ]
  },
  {
   "cell_type": "code",
   "execution_count": 10,
   "metadata": {},
   "outputs": [
    {
     "data": {
      "text/plain": [
       "32.072733877455654"
      ]
     },
     "execution_count": 10,
     "metadata": {},
     "output_type": "execute_result"
    }
   ],
   "source": [
    "#Now computing the cost\n",
    "COMPUTECOST(X,y,theta)"
   ]
  },
  {
   "cell_type": "code",
   "execution_count": 11,
   "metadata": {
    "collapsed": true
   },
   "outputs": [],
   "source": [
    "#Now defining the gradient descent function with a vectorised implementation\n",
    "def GRADIENTDESCENT(X,y,alpha,iterations):\n",
    "    COST=[]\n",
    "    THETAS=[]\n",
    "    m=len(y)\n",
    "    theta=np.zeros(X.shape[1])\n",
    "    for i in range(iterations):\n",
    "        hypothesis=np.dot(X,theta).flatten()\n",
    "        theta=theta-(alpha/m)*np.dot((np.transpose(X).values),(hypothesis-y.values))\n",
    "        COST.append(COMPUTECOST(X,y,theta))\n",
    "        THETAS.append(theta)\n",
    "    return(min(COST),THETAS[COST.index(min(COST))])"
   ]
  },
  {
   "cell_type": "markdown",
   "metadata": {},
   "source": [
    "Some important clarifications:\n",
    "\n",
    "- (X x theta) gives us the hypothesis. X is an (m x n) dimensional matrix and theta is a (n x 1) dimensional vector. The product of two gives us an (m x 1) dimensional vector. This is basically our prediction\n",
    "- (hypothesis - y) gives us the error term. y is also an m dimensional vector, hence matrix subtraction is possible\n",
    "- taking the transpose of X saves us from summing each theta over m examples. X transpose is a (n x m) dimensional matrix. In this case, our first row is all 1, and the second row contains m values of the feature 'Population'\n",
    "- When we multiply X transpose with (hypothesis - y), we get an n dimensional vector. Each m dimensional row vector in X transpose gets multiplied (dot product) with the m dimensional vector (hypothesis - y) and summed over \n",
    "- Multiplying this n dimensional vector with (alpha/m) which is a constant and then subtracting from the theta vector helps us in updating the thetas\n",
    "\n",
    "Why is this implementation helpful? Instead of running 2 for loops - one for the number of iterations of gradient descent and the other over the number of training examples, this way we perform the matrix multiplication and summation effectively."
   ]
  },
  {
   "cell_type": "code",
   "execution_count": 12,
   "metadata": {},
   "outputs": [
    {
     "name": "stdout",
     "output_type": "stream",
     "text": [
      "The intercept and slope of the best fit line is 5.83913505154 and 4.59304113336 respectively with an RMSE of  8.95394275195\n"
     ]
    }
   ],
   "source": [
    "#To get the RMSE, multiply the COST by 2 since we have 2 in the denominator of the cost function\n",
    "#Running the GRADIENTDESCENT ALGORITHM for 1000 iterations with a learning rate of 0.1\n",
    "print('The intercept and slope of the best fit line is',GRADIENTDESCENT(X,y,0.1,1000)[1][0],'and',\n",
    "     GRADIENTDESCENT(X,y,0.1,1000)[1][1],'respectively with an RMSE of ',(GRADIENTDESCENT(X,y,0.1,1000)[0])*2)"
   ]
  },
  {
   "cell_type": "markdown",
   "metadata": {},
   "source": [
    "## Validation "
   ]
  },
  {
   "cell_type": "code",
   "execution_count": 13,
   "metadata": {},
   "outputs": [
    {
     "name": "stdout",
     "output_type": "stream",
     "text": [
      "The intercept and slope of the best fit line is 5.83913505155 and 4.59304113336 respectively with and RMSE of 8.95394275195\n"
     ]
    }
   ],
   "source": [
    "#We can validate this by using Linear Regression from scikit learn\n",
    "from sklearn.linear_model import LinearRegression\n",
    "from sklearn import metrics\n",
    "linreg=LinearRegression()\n",
    "linreg.fit(X,y)\n",
    "print('The intercept and slope of the best fit line is',linreg.intercept_,'and',linreg.coef_[1],\n",
    "      'respectively with and RMSE of',metrics.mean_squared_error(y.values,linreg.predict(X)))"
   ]
  },
  {
   "cell_type": "markdown",
   "metadata": {},
   "source": [
    "One very very important thing to note here is that, due to feature scaling, our optimised/ minimized cost will still remain the same. HOWEVER, our coeffecients may change."
   ]
  },
  {
   "cell_type": "code",
   "execution_count": 14,
   "metadata": {},
   "outputs": [
    {
     "name": "stdout",
     "output_type": "stream",
     "text": [
      "The intercept and slope of the best fit line is -3.89578087831 and 1.19303364419 respectively with and RMSE of 8.95394275195\n"
     ]
    }
   ],
   "source": [
    "#Proof\n",
    "lm=LinearRegression()\n",
    "lm.fit(data.drop('Profit',axis=1),data['Profit'])\n",
    "print('The intercept and slope of the best fit line is',lm.intercept_,'and',lm.coef_[0],\n",
    "      'respectively with and RMSE of',metrics.mean_squared_error(data['Profit'],\n",
    "                                                                 lm.predict(data.drop('Profit',axis=1))))"
   ]
  }
 ],
 "metadata": {
  "kernelspec": {
   "display_name": "Python 3",
   "language": "python",
   "name": "python3"
  },
  "language_info": {
   "codemirror_mode": {
    "name": "ipython",
    "version": 3
   },
   "file_extension": ".py",
   "mimetype": "text/x-python",
   "name": "python",
   "nbconvert_exporter": "python",
   "pygments_lexer": "ipython3",
   "version": "3.6.1"
  }
 },
 "nbformat": 4,
 "nbformat_minor": 2
}
